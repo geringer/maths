{
 "cells": [
  {
   "cell_type": "markdown",
   "metadata": {},
   "source": [
    "# Five Thirty Eight's Riddler Answers"
   ]
  },
  {
   "cell_type": "markdown",
   "metadata": {},
   "source": [
    "### [April 6, 2018](https://fivethirtyeight.com/features/when-will-the-arithmetic-anarchists-attack/)\n",
    "\n",
    "The year is 2000, and an arithmetical anarchist group has an idea. For the next 100 years, it will vandalize a famous landmark whenever the year (in two-digit form, for example this year is “18”) is the product of the month and date (i.e. month × date = year, in the MM/DD/YY format).\n",
    "\n",
    "A few questions about the lawless ensuing century: How many attacks will happen between the beginning of 2001 and the end of 2099? What year will see the most vandalism? The least? What will be the longest gap between attacks?"
   ]
  },
  {
   "cell_type": "code",
   "execution_count": null,
   "metadata": {},
   "outputs": [],
   "source": [
    "import datetime\n",
    "from collections import Counter\n",
    "list = []\n",
    "yearlist = []\n",
    "count = 0\n",
    "maxdays = 0 \n",
    "day = datetime.date(1999,12,31)\n",
    "\n",
    "for i in range(36525): \n",
    "    day += datetime.timedelta(days=1)\n",
    "    if int(day.day) * int(day.month) == int(day.year - 2000):\n",
    "        list.append(day)\n",
    "        count += 1     \n",
    "        \n",
    "for item in range(len(list)-1):\n",
    "    delta = list[item+1]-list[item]\n",
    "    delta = delta.days\n",
    "    print(\"the time between \"+ str(list[item+1]) +\" and \" + str(list[item]) + \" is \" + str(delta))\n",
    "    if delta >= maxdays:\n",
    "        maxdays = delta\n",
    "        print(\"updated max to \" + str(maxdays))\n",
    "        \n",
    "for item in range(len(list)):\n",
    "    day = list[item]\n",
    "    year = day.year\n",
    "    yearlist.append(year)\n",
    "    \n",
    "yearcount = Counter(yearlist)"
   ]
  },
  {
   "cell_type": "code",
   "execution_count": null,
   "metadata": {},
   "outputs": [],
   "source": []
  },
  {
   "cell_type": "code",
   "execution_count": null,
   "metadata": {},
   "outputs": [],
   "source": []
  }
 ],
 "metadata": {
  "kernelspec": {
   "display_name": "Julia 1.1.0",
   "language": "julia",
   "name": "julia-1.1"
  },
  "language_info": {
   "file_extension": ".jl",
   "mimetype": "application/julia",
   "name": "julia",
   "version": "1.1.0"
  }
 },
 "nbformat": 4,
 "nbformat_minor": 2
}
